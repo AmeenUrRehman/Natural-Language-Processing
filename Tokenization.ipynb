{
 "cells": [
  {
   "cell_type": "code",
   "execution_count": 4,
   "id": "8af09ebd",
   "metadata": {},
   "outputs": [],
   "source": [
    "import spacy"
   ]
  },
  {
   "cell_type": "code",
   "execution_count": 5,
   "id": "e2b8a585",
   "metadata": {},
   "outputs": [],
   "source": [
    "nlp = spacy.blank('en')"
   ]
  },
  {
   "cell_type": "code",
   "execution_count": 6,
   "id": "0b480ba5",
   "metadata": {},
   "outputs": [
    {
     "name": "stdout",
     "output_type": "stream",
     "text": [
      "Dr\n",
      ",\n",
      "Strange\n",
      "is\n",
      "a\n",
      "good\n",
      "boy\n",
      ".\n",
      "It\n",
      "'s\n",
      "new\n",
      "movie\n",
      "is\n",
      "Doctor\n",
      "Strange\n",
      "in\n",
      "Multiverse\n"
     ]
    }
   ],
   "source": [
    "doc = nlp(\"Dr, Strange is a good boy. It's new movie is Doctor Strange in Multiverse\")\n",
    "for token in doc:\n",
    "    print(token)"
   ]
  },
  {
   "cell_type": "code",
   "execution_count": 9,
   "id": "d76519b7",
   "metadata": {},
   "outputs": [],
   "source": [
    "with open(\"email.csv\")  as f:\n",
    "    text = f.readlines()"
   ]
  },
  {
   "cell_type": "code",
   "execution_count": 10,
   "id": "d92f5636",
   "metadata": {},
   "outputs": [
    {
     "data": {
      "text/plain": [
       "'Login email;Identifier;First name;Last name\\n laura@example.com;2070;Laura;Grey\\n craig@example.com;4081;Craig;Johnson\\n mary@example.com;9346;Mary;Jenkins\\n jamie@example.com;5079;Jamie;Smith'"
      ]
     },
     "execution_count": 10,
     "metadata": {},
     "output_type": "execute_result"
    }
   ],
   "source": [
    "text = \" \".join(text)\n",
    "text"
   ]
  },
  {
   "cell_type": "code",
   "execution_count": 12,
   "id": "0ba2a51f",
   "metadata": {},
   "outputs": [
    {
     "data": {
      "text/plain": [
       "['laura@example.com;2070;Laura;Grey',\n",
       " 'craig@example.com;4081;Craig;Johnson',\n",
       " 'mary@example.com;9346;Mary;Jenkins',\n",
       " 'jamie@example.com;5079;Jamie;Smith']"
      ]
     },
     "execution_count": 12,
     "metadata": {},
     "output_type": "execute_result"
    }
   ],
   "source": [
    "doc = nlp(text)\n",
    "email = []\n",
    "for token in doc:\n",
    "    if token.like_email:\n",
    "        email.append(token.text)\n",
    "email"
   ]
  },
  {
   "cell_type": "code",
   "execution_count": null,
   "id": "96c0fbd7",
   "metadata": {},
   "outputs": [],
   "source": []
  }
 ],
 "metadata": {
  "kernelspec": {
   "display_name": "Python 3 (ipykernel)",
   "language": "python",
   "name": "python3"
  },
  "language_info": {
   "codemirror_mode": {
    "name": "ipython",
    "version": 3
   },
   "file_extension": ".py",
   "mimetype": "text/x-python",
   "name": "python",
   "nbconvert_exporter": "python",
   "pygments_lexer": "ipython3",
   "version": "3.9.12"
  }
 },
 "nbformat": 4,
 "nbformat_minor": 5
}
