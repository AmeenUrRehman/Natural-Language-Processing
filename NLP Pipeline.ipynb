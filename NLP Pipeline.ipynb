{
 "cells": [
  {
   "cell_type": "code",
   "execution_count": 1,
   "id": "be7b0ced",
   "metadata": {},
   "outputs": [],
   "source": [
    "import spacy"
   ]
  },
  {
   "cell_type": "code",
   "execution_count": 9,
   "id": "d437679b",
   "metadata": {},
   "outputs": [],
   "source": [
    "nlp = spacy.blank(\"en\") # It is a blank pipeline so doesn;t give anything like lemma etc.\n",
    "nlp = spacy.load(\"en_core_web_sm\")"
   ]
  },
  {
   "cell_type": "code",
   "execution_count": 14,
   "id": "87ecaebf",
   "metadata": {},
   "outputs": [
    {
     "name": "stdout",
     "output_type": "stream",
     "text": [
      "this\n",
      "is\n",
      "ameen\n",
      "ur\n",
      "rehman\n",
      "he\n",
      "eats\n",
      "banana\n",
      "and\n",
      "here\n",
      "i\n",
      "with\n",
      "legend\n",
      "eat\n",
      "srk\n",
      ".\n",
      "This\n",
      "is\n",
      "my\n",
      "boy\n",
      ".\n"
     ]
    }
   ],
   "source": [
    "doc = nlp(\"this is ameen ur rehman he eats banana and here i with legend eat srk.This is my boy.\")\n",
    "for token in doc:\n",
    "    print(token)"
   ]
  },
  {
   "cell_type": "code",
   "execution_count": 17,
   "id": "c08f4dff",
   "metadata": {},
   "outputs": [
    {
     "name": "stdout",
     "output_type": "stream",
     "text": [
      "this  |  PRON  |  this\n",
      "is  |  AUX  |  be\n",
      "ameen  |  VERB  |  ameen\n",
      "ur  |  PROPN  |  ur\n",
      "rehman  |  NOUN  |  rehman\n",
      "he  |  PRON  |  he\n",
      "eats  |  VERB  |  eat\n",
      "banana  |  NOUN  |  banana\n",
      "and  |  CCONJ  |  and\n",
      "here  |  ADV  |  here\n",
      "i  |  PRON  |  I\n",
      "with  |  ADP  |  with\n",
      "legend  |  NOUN  |  legend\n",
      "eat  |  VERB  |  eat\n",
      "srk  |  NOUN  |  srk\n",
      ".  |  PUNCT  |  .\n",
      "This  |  PRON  |  this\n",
      "is  |  AUX  |  be\n",
      "my  |  PRON  |  my\n",
      "boy  |  NOUN  |  boy\n",
      ".  |  PUNCT  |  .\n"
     ]
    }
   ],
   "source": [
    "doc = nlp(\"this is ameen ur rehman he eats banana and here i with legend eat srk.This is my boy.\")\n",
    "for token in doc:\n",
    "    print(token, \" | \" , token.pos_ , \" | \" , token.lemma_)"
   ]
  },
  {
   "cell_type": "code",
   "execution_count": 19,
   "id": "230a2ce9",
   "metadata": {},
   "outputs": [
    {
     "data": {
      "text/html": [
       "<span class=\"tex2jax_ignore\"><div class=\"entities\" style=\"line-height: 2.5; direction: ltr\">\n",
       "<mark class=\"entity\" style=\"background: #7aecec; padding: 0.45em 0.6em; margin: 0 0.25em; line-height: 1; border-radius: 0.35em;\">\n",
       "    Tesla Inc\n",
       "    <span style=\"font-size: 0.8em; font-weight: bold; line-height: 1; border-radius: 0.35em; vertical-align: middle; margin-left: 0.5rem\">ORG</span>\n",
       "</mark>\n",
       " is going to acquire twitter for \n",
       "<mark class=\"entity\" style=\"background: #e4e7d2; padding: 0.45em 0.6em; margin: 0 0.25em; line-height: 1; border-radius: 0.35em;\">\n",
       "    $45 Billion\n",
       "    <span style=\"font-size: 0.8em; font-weight: bold; line-height: 1; border-radius: 0.35em; vertical-align: middle; margin-left: 0.5rem\">MONEY</span>\n",
       "</mark>\n",
       ".</div></span>"
      ],
      "text/plain": [
       "<IPython.core.display.HTML object>"
      ]
     },
     "metadata": {},
     "output_type": "display_data"
    }
   ],
   "source": [
    "doc = nlp(\"Tesla Inc is going to acquire twitter for $45 Billion.\")\n",
    "from spacy import displacy\n",
    "displacy.render(doc , style=\"ent\") #here ent is entity"
   ]
  },
  {
   "cell_type": "code",
   "execution_count": 23,
   "id": "608d880d",
   "metadata": {},
   "outputs": [
    {
     "data": {
      "text/plain": [
       "['ner']"
      ]
     },
     "execution_count": 23,
     "metadata": {},
     "output_type": "execute_result"
    }
   ],
   "source": [
    "# add pipeline in blank\n",
    "source_pipe = spacy.load(\"en_core_web_sm\")\n",
    "nlp = spacy.blank(\"en\")\n",
    "nlp.add_pipe(\"ner\" , source=source_pipe)\n",
    "nlp.pipe_names\n"
   ]
  },
  {
   "cell_type": "code",
   "execution_count": null,
   "id": "cd620183",
   "metadata": {},
   "outputs": [],
   "source": []
  },
  {
   "cell_type": "code",
   "execution_count": null,
   "id": "b37dcf8c",
   "metadata": {},
   "outputs": [],
   "source": []
  }
 ],
 "metadata": {
  "kernelspec": {
   "display_name": "Python 3 (ipykernel)",
   "language": "python",
   "name": "python3"
  },
  "language_info": {
   "codemirror_mode": {
    "name": "ipython",
    "version": 3
   },
   "file_extension": ".py",
   "mimetype": "text/x-python",
   "name": "python",
   "nbconvert_exporter": "python",
   "pygments_lexer": "ipython3",
   "version": "3.9.12"
  }
 },
 "nbformat": 4,
 "nbformat_minor": 5
}
